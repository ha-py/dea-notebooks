{
 "cells": [
  {
   "cell_type": "markdown",
   "metadata": {},
   "source": [
    "# Estimate ENSO Influence on Rainfall <img align=\"right\" src=\"../../../Supplementary_data/dea_logo.jpg\">\n",
    "\n",
    "* **Compatibility:** Notebook currently compatible with both the `NCI` and `DEA Sandbox` environments\n",
    "* **Products used:** [DEA Waterbodies](https://cmi.ga.gov.au/data-products/dea/456/waterboards) time series data (available online)\n",
    "\n",
    "## Background\n",
    "\n",
    "The El Niño-Southern Oscillation (ENSO) is the climate driver associated with Pacific Ocean El Niño and La Niña events (ENSO phases). These events affect climate and rainfall patterns in eastern Australia. Different regions of Australia are affected quite differently.\n",
    "\n",
    "\n",
    "### Digital Earth Australia use case \n",
    "The [DEA Waterbodies](https://cmi.ga.gov.au/data-products/dea/456/waterboards) product uses Geoscience Australia’s archive of over 30 years of Landsat satellite imagery to identify where almost 300,000 waterbodies are in the Australian landscape and tells us how the wet surface area within those waterbodies changes over time.\n",
    "These data can be analysed to obtain insights into the duration and temporal dynamics of inundation for any mapped waterbody in Australia.\n",
    "\n",
    "## Description\n",
    "\n",
    "This notebook estimates the influence of ENSO on a DEA Waterbody using a few different metrics. This analysis should work for any time series stored in a similar format.\n",
    "\n",
    "***"
   ]
  },
  {
   "cell_type": "markdown",
   "metadata": {},
   "source": [
    "## Getting started\n",
    "\n",
    "Run the first cell, which loads all modules needed for this notebook. Then edit the configuration to match what you want the notebook to output."
   ]
  },
  {
   "cell_type": "markdown",
   "metadata": {},
   "source": [
    "### Load modules"
   ]
  },
  {
   "cell_type": "code",
   "execution_count": 1,
   "metadata": {},
   "outputs": [],
   "source": [
    "%matplotlib inline\n",
    "import datacube\n",
    "import numpy as np\n",
    "import pandas as pd\n",
    "import scipy.stats\n",
    "import xarray\n",
    "from matplotlib import pyplot as plt"
   ]
  },
  {
   "cell_type": "markdown",
   "metadata": {},
   "source": [
    "### Connect to the datacube"
   ]
  },
  {
   "cell_type": "code",
   "execution_count": 7,
   "metadata": {},
   "outputs": [],
   "source": [
    "dc = datacube.Datacube(app='estimate-enso-influence-on-rainfall')"
   ]
  },
  {
   "cell_type": "markdown",
   "metadata": {},
   "source": [
    "### Load gridded rainfall"
   ]
  },
  {
   "cell_type": "code",
   "execution_count": 8,
   "metadata": {},
   "outputs": [
    {
     "data": {
      "text/html": [
       "<div>\n",
       "<style scoped>\n",
       "    .dataframe tbody tr th:only-of-type {\n",
       "        vertical-align: middle;\n",
       "    }\n",
       "\n",
       "    .dataframe tbody tr th {\n",
       "        vertical-align: top;\n",
       "    }\n",
       "\n",
       "    .dataframe thead th {\n",
       "        text-align: right;\n",
       "    }\n",
       "</style>\n",
       "<table border=\"1\" class=\"dataframe\">\n",
       "  <thead>\n",
       "    <tr style=\"text-align: right;\">\n",
       "      <th></th>\n",
       "      <th>name</th>\n",
       "      <th>description</th>\n",
       "      <th>gqa_stddev_x</th>\n",
       "      <th>gqa_abs_xy</th>\n",
       "      <th>gqa_mean_y</th>\n",
       "      <th>product_type</th>\n",
       "      <th>gqa_iterative_stddev_y</th>\n",
       "      <th>gqa_iterative_stddev_x</th>\n",
       "      <th>creation_time</th>\n",
       "      <th>lon</th>\n",
       "      <th>...</th>\n",
       "      <th>gqa_abs_iterative_mean_x</th>\n",
       "      <th>gqa_mean_xy</th>\n",
       "      <th>format</th>\n",
       "      <th>dataset_maturity</th>\n",
       "      <th>eo_sun_elevation</th>\n",
       "      <th>gqa_iterative_stddev_xy</th>\n",
       "      <th>crs</th>\n",
       "      <th>resolution</th>\n",
       "      <th>tile_size</th>\n",
       "      <th>spatial_dimensions</th>\n",
       "    </tr>\n",
       "    <tr>\n",
       "      <th>id</th>\n",
       "      <th></th>\n",
       "      <th></th>\n",
       "      <th></th>\n",
       "      <th></th>\n",
       "      <th></th>\n",
       "      <th></th>\n",
       "      <th></th>\n",
       "      <th></th>\n",
       "      <th></th>\n",
       "      <th></th>\n",
       "      <th></th>\n",
       "      <th></th>\n",
       "      <th></th>\n",
       "      <th></th>\n",
       "      <th></th>\n",
       "      <th></th>\n",
       "      <th></th>\n",
       "      <th></th>\n",
       "      <th></th>\n",
       "      <th></th>\n",
       "      <th></th>\n",
       "    </tr>\n",
       "  </thead>\n",
       "  <tbody>\n",
       "    <tr>\n",
       "      <th>75</th>\n",
       "      <td>camden_insar_alos_displacement</td>\n",
       "      <td>Camden InSAR ALOS Displacement</td>\n",
       "      <td>NaN</td>\n",
       "      <td>NaN</td>\n",
       "      <td>NaN</td>\n",
       "      <td>NaN</td>\n",
       "      <td>NaN</td>\n",
       "      <td>NaN</td>\n",
       "      <td>None</td>\n",
       "      <td>None</td>\n",
       "      <td>...</td>\n",
       "      <td>NaN</td>\n",
       "      <td>NaN</td>\n",
       "      <td>None</td>\n",
       "      <td>None</td>\n",
       "      <td>NaN</td>\n",
       "      <td>NaN</td>\n",
       "      <td>NaN</td>\n",
       "      <td>NaN</td>\n",
       "      <td>NaN</td>\n",
       "      <td>NaN</td>\n",
       "    </tr>\n",
       "    <tr>\n",
       "      <th>10</th>\n",
       "      <td>fc_percentile_albers_annual</td>\n",
       "      <td>Landsat Fractional Cover percentile 25 metre, ...</td>\n",
       "      <td>NaN</td>\n",
       "      <td>NaN</td>\n",
       "      <td>NaN</td>\n",
       "      <td>fractional_cover_statistical_summary</td>\n",
       "      <td>NaN</td>\n",
       "      <td>NaN</td>\n",
       "      <td>None</td>\n",
       "      <td>None</td>\n",
       "      <td>...</td>\n",
       "      <td>NaN</td>\n",
       "      <td>NaN</td>\n",
       "      <td>GeoTIFF</td>\n",
       "      <td>NaN</td>\n",
       "      <td>NaN</td>\n",
       "      <td>NaN</td>\n",
       "      <td>EPSG:3577</td>\n",
       "      <td>(-25, 25)</td>\n",
       "      <td>(100000.0, 100000.0)</td>\n",
       "      <td>(y, x)</td>\n",
       "    </tr>\n",
       "    <tr>\n",
       "      <th>11</th>\n",
       "      <td>fc_percentile_albers_seasonal</td>\n",
       "      <td>Landsat Fractional Cover percentile 25 metre, ...</td>\n",
       "      <td>NaN</td>\n",
       "      <td>NaN</td>\n",
       "      <td>NaN</td>\n",
       "      <td>fractional_cover_seasonal_summary</td>\n",
       "      <td>NaN</td>\n",
       "      <td>NaN</td>\n",
       "      <td>None</td>\n",
       "      <td>None</td>\n",
       "      <td>...</td>\n",
       "      <td>NaN</td>\n",
       "      <td>NaN</td>\n",
       "      <td>GeoTIFF</td>\n",
       "      <td>NaN</td>\n",
       "      <td>NaN</td>\n",
       "      <td>NaN</td>\n",
       "      <td>EPSG:3577</td>\n",
       "      <td>(-25, 25)</td>\n",
       "      <td>(100000.0, 100000.0)</td>\n",
       "      <td>(y, x)</td>\n",
       "    </tr>\n",
       "    <tr>\n",
       "      <th>115</th>\n",
       "      <td>ga_ls5t_ard_3</td>\n",
       "      <td>Geoscience Australia Landsat 5 Thematic Mapper...</td>\n",
       "      <td>NaN</td>\n",
       "      <td>NaN</td>\n",
       "      <td>NaN</td>\n",
       "      <td>NaN</td>\n",
       "      <td>NaN</td>\n",
       "      <td>NaN</td>\n",
       "      <td>None</td>\n",
       "      <td>None</td>\n",
       "      <td>...</td>\n",
       "      <td>NaN</td>\n",
       "      <td>NaN</td>\n",
       "      <td>None</td>\n",
       "      <td>final</td>\n",
       "      <td>NaN</td>\n",
       "      <td>NaN</td>\n",
       "      <td>NaN</td>\n",
       "      <td>NaN</td>\n",
       "      <td>NaN</td>\n",
       "      <td>NaN</td>\n",
       "    </tr>\n",
       "    <tr>\n",
       "      <th>148</th>\n",
       "      <td>ga_ls7e_ard_3</td>\n",
       "      <td>Geoscience Australia Landsat 7 Enhanced Themat...</td>\n",
       "      <td>NaN</td>\n",
       "      <td>NaN</td>\n",
       "      <td>NaN</td>\n",
       "      <td>NaN</td>\n",
       "      <td>NaN</td>\n",
       "      <td>NaN</td>\n",
       "      <td>None</td>\n",
       "      <td>None</td>\n",
       "      <td>...</td>\n",
       "      <td>NaN</td>\n",
       "      <td>NaN</td>\n",
       "      <td>None</td>\n",
       "      <td>final</td>\n",
       "      <td>NaN</td>\n",
       "      <td>NaN</td>\n",
       "      <td>NaN</td>\n",
       "      <td>NaN</td>\n",
       "      <td>NaN</td>\n",
       "      <td>NaN</td>\n",
       "    </tr>\n",
       "    <tr>\n",
       "      <th>...</th>\n",
       "      <td>...</td>\n",
       "      <td>...</td>\n",
       "      <td>...</td>\n",
       "      <td>...</td>\n",
       "      <td>...</td>\n",
       "      <td>...</td>\n",
       "      <td>...</td>\n",
       "      <td>...</td>\n",
       "      <td>...</td>\n",
       "      <td>...</td>\n",
       "      <td>...</td>\n",
       "      <td>...</td>\n",
       "      <td>...</td>\n",
       "      <td>...</td>\n",
       "      <td>...</td>\n",
       "      <td>...</td>\n",
       "      <td>...</td>\n",
       "      <td>...</td>\n",
       "      <td>...</td>\n",
       "      <td>...</td>\n",
       "      <td>...</td>\n",
       "    </tr>\n",
       "    <tr>\n",
       "      <th>24</th>\n",
       "      <td>wofs_annual_summary</td>\n",
       "      <td>Water Observations from Space Annual Statistics</td>\n",
       "      <td>NaN</td>\n",
       "      <td>NaN</td>\n",
       "      <td>NaN</td>\n",
       "      <td>wofs_annual_summary</td>\n",
       "      <td>NaN</td>\n",
       "      <td>NaN</td>\n",
       "      <td>None</td>\n",
       "      <td>None</td>\n",
       "      <td>...</td>\n",
       "      <td>NaN</td>\n",
       "      <td>NaN</td>\n",
       "      <td>GeoTIFF</td>\n",
       "      <td>NaN</td>\n",
       "      <td>NaN</td>\n",
       "      <td>NaN</td>\n",
       "      <td>EPSG:3577</td>\n",
       "      <td>(-25, 25)</td>\n",
       "      <td>(100000.0, 100000.0)</td>\n",
       "      <td>(y, x)</td>\n",
       "    </tr>\n",
       "    <tr>\n",
       "      <th>25</th>\n",
       "      <td>wofs_apr_oct_summary</td>\n",
       "      <td>Water Observations from Space April to October...</td>\n",
       "      <td>NaN</td>\n",
       "      <td>NaN</td>\n",
       "      <td>NaN</td>\n",
       "      <td>wofs_apr_oct_summary</td>\n",
       "      <td>NaN</td>\n",
       "      <td>NaN</td>\n",
       "      <td>None</td>\n",
       "      <td>None</td>\n",
       "      <td>...</td>\n",
       "      <td>NaN</td>\n",
       "      <td>NaN</td>\n",
       "      <td>GeoTIFF</td>\n",
       "      <td>NaN</td>\n",
       "      <td>NaN</td>\n",
       "      <td>NaN</td>\n",
       "      <td>EPSG:3577</td>\n",
       "      <td>(-25, 25)</td>\n",
       "      <td>(100000.0, 100000.0)</td>\n",
       "      <td>(y, x)</td>\n",
       "    </tr>\n",
       "    <tr>\n",
       "      <th>22</th>\n",
       "      <td>wofs_filtered_summary</td>\n",
       "      <td>Water Observations from Space Statistics confi...</td>\n",
       "      <td>NaN</td>\n",
       "      <td>NaN</td>\n",
       "      <td>NaN</td>\n",
       "      <td>wofs_filtered_summary</td>\n",
       "      <td>NaN</td>\n",
       "      <td>NaN</td>\n",
       "      <td>None</td>\n",
       "      <td>None</td>\n",
       "      <td>...</td>\n",
       "      <td>NaN</td>\n",
       "      <td>NaN</td>\n",
       "      <td>GeoTIFF</td>\n",
       "      <td>NaN</td>\n",
       "      <td>NaN</td>\n",
       "      <td>NaN</td>\n",
       "      <td>EPSG:3577</td>\n",
       "      <td>(-25, 25)</td>\n",
       "      <td>(100000.0, 100000.0)</td>\n",
       "      <td>(y, x)</td>\n",
       "    </tr>\n",
       "    <tr>\n",
       "      <th>26</th>\n",
       "      <td>wofs_nov_mar_summary</td>\n",
       "      <td>Water Observations from Space November to Marc...</td>\n",
       "      <td>NaN</td>\n",
       "      <td>NaN</td>\n",
       "      <td>NaN</td>\n",
       "      <td>wofs_nov_mar_summary</td>\n",
       "      <td>NaN</td>\n",
       "      <td>NaN</td>\n",
       "      <td>None</td>\n",
       "      <td>None</td>\n",
       "      <td>...</td>\n",
       "      <td>NaN</td>\n",
       "      <td>NaN</td>\n",
       "      <td>GeoTIFF</td>\n",
       "      <td>NaN</td>\n",
       "      <td>NaN</td>\n",
       "      <td>NaN</td>\n",
       "      <td>EPSG:3577</td>\n",
       "      <td>(-25, 25)</td>\n",
       "      <td>(100000.0, 100000.0)</td>\n",
       "      <td>(y, x)</td>\n",
       "    </tr>\n",
       "    <tr>\n",
       "      <th>23</th>\n",
       "      <td>wofs_summary</td>\n",
       "      <td>Water Observations from Space Statistics</td>\n",
       "      <td>NaN</td>\n",
       "      <td>NaN</td>\n",
       "      <td>NaN</td>\n",
       "      <td>wofs_statistical_summary</td>\n",
       "      <td>NaN</td>\n",
       "      <td>NaN</td>\n",
       "      <td>None</td>\n",
       "      <td>None</td>\n",
       "      <td>...</td>\n",
       "      <td>NaN</td>\n",
       "      <td>NaN</td>\n",
       "      <td>GeoTIFF</td>\n",
       "      <td>NaN</td>\n",
       "      <td>NaN</td>\n",
       "      <td>NaN</td>\n",
       "      <td>EPSG:3577</td>\n",
       "      <td>(-25, 25)</td>\n",
       "      <td>(100000.0, 100000.0)</td>\n",
       "      <td>(y, x)</td>\n",
       "    </tr>\n",
       "  </tbody>\n",
       "</table>\n",
       "<p>65 rows × 52 columns</p>\n",
       "</div>"
      ],
      "text/plain": [
       "                               name  \\\n",
       "id                                    \n",
       "75   camden_insar_alos_displacement   \n",
       "10      fc_percentile_albers_annual   \n",
       "11    fc_percentile_albers_seasonal   \n",
       "115                   ga_ls5t_ard_3   \n",
       "148                   ga_ls7e_ard_3   \n",
       "..                              ...   \n",
       "24              wofs_annual_summary   \n",
       "25             wofs_apr_oct_summary   \n",
       "22            wofs_filtered_summary   \n",
       "26             wofs_nov_mar_summary   \n",
       "23                     wofs_summary   \n",
       "\n",
       "                                           description  gqa_stddev_x  \\\n",
       "id                                                                     \n",
       "75                      Camden InSAR ALOS Displacement           NaN   \n",
       "10   Landsat Fractional Cover percentile 25 metre, ...           NaN   \n",
       "11   Landsat Fractional Cover percentile 25 metre, ...           NaN   \n",
       "115  Geoscience Australia Landsat 5 Thematic Mapper...           NaN   \n",
       "148  Geoscience Australia Landsat 7 Enhanced Themat...           NaN   \n",
       "..                                                 ...           ...   \n",
       "24     Water Observations from Space Annual Statistics           NaN   \n",
       "25   Water Observations from Space April to October...           NaN   \n",
       "22   Water Observations from Space Statistics confi...           NaN   \n",
       "26   Water Observations from Space November to Marc...           NaN   \n",
       "23            Water Observations from Space Statistics           NaN   \n",
       "\n",
       "     gqa_abs_xy  gqa_mean_y                          product_type  \\\n",
       "id                                                                  \n",
       "75          NaN         NaN                                   NaN   \n",
       "10          NaN         NaN  fractional_cover_statistical_summary   \n",
       "11          NaN         NaN     fractional_cover_seasonal_summary   \n",
       "115         NaN         NaN                                   NaN   \n",
       "148         NaN         NaN                                   NaN   \n",
       "..          ...         ...                                   ...   \n",
       "24          NaN         NaN                   wofs_annual_summary   \n",
       "25          NaN         NaN                  wofs_apr_oct_summary   \n",
       "22          NaN         NaN                 wofs_filtered_summary   \n",
       "26          NaN         NaN                  wofs_nov_mar_summary   \n",
       "23          NaN         NaN              wofs_statistical_summary   \n",
       "\n",
       "     gqa_iterative_stddev_y  gqa_iterative_stddev_x creation_time   lon  ...  \\\n",
       "id                                                                       ...   \n",
       "75                      NaN                     NaN          None  None  ...   \n",
       "10                      NaN                     NaN          None  None  ...   \n",
       "11                      NaN                     NaN          None  None  ...   \n",
       "115                     NaN                     NaN          None  None  ...   \n",
       "148                     NaN                     NaN          None  None  ...   \n",
       "..                      ...                     ...           ...   ...  ...   \n",
       "24                      NaN                     NaN          None  None  ...   \n",
       "25                      NaN                     NaN          None  None  ...   \n",
       "22                      NaN                     NaN          None  None  ...   \n",
       "26                      NaN                     NaN          None  None  ...   \n",
       "23                      NaN                     NaN          None  None  ...   \n",
       "\n",
       "     gqa_abs_iterative_mean_x  gqa_mean_xy   format  dataset_maturity  \\\n",
       "id                                                                      \n",
       "75                        NaN          NaN     None              None   \n",
       "10                        NaN          NaN  GeoTIFF               NaN   \n",
       "11                        NaN          NaN  GeoTIFF               NaN   \n",
       "115                       NaN          NaN     None             final   \n",
       "148                       NaN          NaN     None             final   \n",
       "..                        ...          ...      ...               ...   \n",
       "24                        NaN          NaN  GeoTIFF               NaN   \n",
       "25                        NaN          NaN  GeoTIFF               NaN   \n",
       "22                        NaN          NaN  GeoTIFF               NaN   \n",
       "26                        NaN          NaN  GeoTIFF               NaN   \n",
       "23                        NaN          NaN  GeoTIFF               NaN   \n",
       "\n",
       "     eo_sun_elevation  gqa_iterative_stddev_xy        crs resolution  \\\n",
       "id                                                                     \n",
       "75                NaN                      NaN        NaN        NaN   \n",
       "10                NaN                      NaN  EPSG:3577  (-25, 25)   \n",
       "11                NaN                      NaN  EPSG:3577  (-25, 25)   \n",
       "115               NaN                      NaN        NaN        NaN   \n",
       "148               NaN                      NaN        NaN        NaN   \n",
       "..                ...                      ...        ...        ...   \n",
       "24                NaN                      NaN  EPSG:3577  (-25, 25)   \n",
       "25                NaN                      NaN  EPSG:3577  (-25, 25)   \n",
       "22                NaN                      NaN  EPSG:3577  (-25, 25)   \n",
       "26                NaN                      NaN  EPSG:3577  (-25, 25)   \n",
       "23                NaN                      NaN  EPSG:3577  (-25, 25)   \n",
       "\n",
       "                tile_size  spatial_dimensions  \n",
       "id                                             \n",
       "75                    NaN                 NaN  \n",
       "10   (100000.0, 100000.0)              (y, x)  \n",
       "11   (100000.0, 100000.0)              (y, x)  \n",
       "115                   NaN                 NaN  \n",
       "148                   NaN                 NaN  \n",
       "..                    ...                 ...  \n",
       "24   (100000.0, 100000.0)              (y, x)  \n",
       "25   (100000.0, 100000.0)              (y, x)  \n",
       "22   (100000.0, 100000.0)              (y, x)  \n",
       "26   (100000.0, 100000.0)              (y, x)  \n",
       "23   (100000.0, 100000.0)              (y, x)  \n",
       "\n",
       "[65 rows x 52 columns]"
      ]
     },
     "execution_count": 8,
     "metadata": {},
     "output_type": "execute_result"
    }
   ],
   "source": [
    "dc.list_products()"
   ]
  },
  {
   "cell_type": "markdown",
   "metadata": {},
   "source": [
    "### Load Southern Oscillation Index\n",
    "\n",
    "The Southern Oscillation Index (SOI) tracks ENSO based on pressure differences between Tahiti and Darwin. The United States National Oceanic and Atmospheric Administration has an easily-accessed record of the SOI, which we load here."
   ]
  },
  {
   "cell_type": "code",
   "execution_count": 5,
   "metadata": {},
   "outputs": [
    {
     "name": "stderr",
     "output_type": "stream",
     "text": [
      "--2020-10-19 04:02:53--  https://stateoftheocean.osmc.noaa.gov/atm/data/soi.nc\n",
      "Resolving stateoftheocean.osmc.noaa.gov (stateoftheocean.osmc.noaa.gov)... 161.55.85.40\n",
      "Connecting to stateoftheocean.osmc.noaa.gov (stateoftheocean.osmc.noaa.gov)|161.55.85.40|:443... connected.\n",
      "HTTP request sent, awaiting response... 200 OK\n",
      "Length: 28604 (28K) [application/x-netcdf]\n",
      "Saving to: ‘soi.nc’\n",
      "\n",
      "     0K .......... .......... .......                         100%  175K=0.2s\n",
      "\n",
      "2020-10-19 04:02:55 (175 KB/s) - ‘soi.nc’ saved [28604/28604]\n",
      "\n"
     ]
    }
   ],
   "source": [
    "%%bash\n",
    "wget https://stateoftheocean.osmc.noaa.gov/atm/data/soi.nc"
   ]
  },
  {
   "cell_type": "code",
   "execution_count": 6,
   "metadata": {},
   "outputs": [],
   "source": [
    "soi = (\n",
    "    xarray.open_dataset(\"soi.nc\").SOI * 10\n",
    ")  # multiply by 10 to match standard convention.\n",
    "soi = pd.DataFrame({\"SOI\": soi.to_pandas()}).resample(\"1D\").mean().interpolate()"
   ]
  },
  {
   "cell_type": "markdown",
   "metadata": {},
   "source": [
    "### Load DEA Waterbodies data\n",
    "\n",
    "The DEA Waterbodies time series are stored as CSV files. \n",
    "Each waterbody is labelled by a geohash, e.g. Weereewa is `r3f225n9h`. \n",
    "They are stored online (on Amazon S3) in a folder named after the first four characters of the geohash, and the filename is the geohash, e.g. Weereewa is at `https://data.dea.ga.gov.au/projects/WaterBodies/timeseries/r3f2/r3f225n9h.csv`. \n",
    "Each CSV has three columns: `Observation Date`, `Wet pixel percentage`, `Wet pixel count (n = ?)` where ? is the total number of observations. \n",
    "An example is:\n",
    "\n",
    "    Observation Date,Wet pixel percentage,Wet pixel count (n = 230894)\n",
    "    1987-05-29T23:14:29Z,,\n",
    "    1987-07-16T23:15:29Z,,\n",
    "    1987-09-02T23:16:50Z,,\n",
    "    1987-09-18T23:17:13Z,19.9,45926\n",
    "    \n",
    "First we will read the CSV containing the surface area vs time observations data directly from the URL path using `pandas`.\n",
    "We will rename the `Observation Date, Wet pixel percentage, Wet pixel count (n = ?)` columns to more consistent and easier to access names:\n",
    "```\n",
    "    date, pc_wet, px_wet\n",
    " ```\n",
    "    \n",
    "We also ensure that the 'date' column is parsed as a `datetime`, and convert the data percentages to decimals:"
   ]
  },
  {
   "cell_type": "code",
   "execution_count": 7,
   "metadata": {},
   "outputs": [],
   "source": [
    "# Set path to the CSV file\n",
    "csv_path = f\"{waterbody_csv_path}/{geohash[:4]}/{geohash}.csv\"\n",
    "\n",
    "# Load the data using `pandas`:\n",
    "time_series = pd.read_csv(\n",
    "    csv_path,\n",
    "    header=0,\n",
    "    names=[\"date\", \"pc_wet\", \"px_wet\"],\n",
    "    parse_dates=[\"date\"],\n",
    "    index_col=\"date\",\n",
    ")\n",
    "time_series.index = time_series.index.astype(\"datetime64[ns]\")\n",
    "\n",
    "# Convert percentages into a float between 0 and 1.\n",
    "time_series.pc_wet /= 100\n",
    "\n",
    "# Drop null values.\n",
    "time_series = time_series[pd.notnull(time_series.px_wet)]"
   ]
  },
  {
   "cell_type": "markdown",
   "metadata": {},
   "source": [
    "### Interpolate data to daily values\n",
    "\n",
    "DEA Waterbodies data is stored with one row per satellite observation. \n",
    "To make our data easier to analyse by time, we can interpolate the data to estimate the percentage coverage of water for every individual day in our time series."
   ]
  },
  {
   "cell_type": "code",
   "execution_count": 8,
   "metadata": {},
   "outputs": [],
   "source": [
    "time_series = time_series.resample(\"1D\").mean().interpolate()"
   ]
  },
  {
   "cell_type": "code",
   "execution_count": 9,
   "metadata": {},
   "outputs": [
    {
     "data": {
      "text/plain": [
       "<matplotlib.axes._subplots.AxesSubplot at 0x7fc6a03fd6a0>"
      ]
     },
     "execution_count": 9,
     "metadata": {},
     "output_type": "execute_result"
    },
    {
     "data": {
      "image/png": "[encoded data removed]",
      "text/plain": [
       "<Figure size 432x288 with 1 Axes>"
      ]
     },
     "metadata": {
      "needs_background": "light"
     },
     "output_type": "display_data"
    }
   ],
   "source": [
    "time_series.pc_wet.plot()"
   ]
  },
  {
   "cell_type": "markdown",
   "metadata": {},
   "source": [
    "## Estimate ENSO phases\n",
    "\n",
    "We first need to estimate when El Niño and La Niña were active. This is indicated by the SOI being below -8 or above +8 for a sustained period, for each driver respectively (see the [Bureau of Meteorology information page on the SOI](http://www.bom.gov.au/climate/enso/history/ln-2010-12/SOI-what.shtml) for more details). We will take a four-month rolling mean and find periods where this mean was greater than or less than +8 or -8."
   ]
  },
  {
   "cell_type": "code",
   "execution_count": 10,
   "metadata": {},
   "outputs": [],
   "source": [
    "rolling_soi = soi.reindex(time_series.index).interpolate().rolling(28 * 4).mean().SOI"
   ]
  },
  {
   "cell_type": "code",
   "execution_count": 11,
   "metadata": {},
   "outputs": [],
   "source": [
    "la_nina = rolling_soi > 8\n",
    "el_nino = rolling_soi < -8"
   ]
  },
  {
   "cell_type": "code",
   "execution_count": 12,
   "metadata": {},
   "outputs": [
    {
     "data": {
      "image/png": "[encoded data removed]",
      "text/plain": [
       "<Figure size 432x288 with 1 Axes>"
      ]
     },
     "metadata": {
      "needs_background": "light"
     },
     "output_type": "display_data"
    }
   ],
   "source": [
    "# Plot the El Niño and La Niña periods.\n",
    "for i, group in la_nina.groupby(np.cumsum(la_nina != la_nina.shift())):\n",
    "    if not group.iloc[0]:\n",
    "        continue\n",
    "\n",
    "    start = group.index[0]\n",
    "    end = group.index[-1]\n",
    "    plt.axvspan(start, end, facecolor=\"lightblue\")\n",
    "\n",
    "for i, group in el_nino.groupby(np.cumsum(el_nino != el_nino.shift())):\n",
    "    if not group.iloc[0]:\n",
    "        continue\n",
    "\n",
    "    start = group.index[0]\n",
    "    end = group.index[-1]\n",
    "    plt.axvspan(start, end, facecolor=\"pink\")"
   ]
  },
  {
   "cell_type": "markdown",
   "metadata": {},
   "source": [
    "## Cumulative distributions of wet surface area for each phase\n",
    "\n",
    "For El Niño, La Niña, and the neutral phase (when neither El Niño nor La Niña are active), collect all surface area observations that occurred during that phase. We can then treat these surface area observations as samples of a random variable, conditioned on the ENSO phase."
   ]
  },
  {
   "cell_type": "code",
   "execution_count": 13,
   "metadata": {},
   "outputs": [],
   "source": [
    "en_wet = time_series[el_nino].px_wet\n",
    "ln_wet = time_series[la_nina].px_wet\n",
    "neutral_wet = time_series[~el_nino & ~la_nina].px_wet"
   ]
  },
  {
   "cell_type": "markdown",
   "metadata": {},
   "source": [
    "We can then estimate and plot the cumulative distribution functions (CDF) of the wet surface area."
   ]
  },
  {
   "cell_type": "code",
   "execution_count": 14,
   "metadata": {},
   "outputs": [],
   "source": [
    "pcs = np.linspace(0, 100, 100)\n",
    "en_cdf = np.interp(pcs, np.linspace(0, 100, len(en_wet)), np.sort(en_wet))\n",
    "ln_cdf = np.interp(pcs, np.linspace(0, 100, len(ln_wet)), np.sort(ln_wet))\n",
    "neutral_cdf = np.interp(\n",
    "    pcs, np.linspace(0, 100, len(neutral_wet)), np.sort(neutral_wet)\n",
    ")"
   ]
  },
  {
   "cell_type": "code",
   "execution_count": 15,
   "metadata": {},
   "outputs": [
    {
     "data": {
      "image/png": "[encoded data removed]",
      "text/plain": [
       "<Figure size 432x288 with 1 Axes>"
      ]
     },
     "metadata": {
      "needs_background": "light"
     },
     "output_type": "display_data"
    }
   ],
   "source": [
    "plt.plot(en_cdf, pcs, label=\"El Niño\", c=\"firebrick\")\n",
    "plt.plot(ln_cdf, pcs, label=\"La Niña\", c=\"steelblue\")\n",
    "plt.plot(neutral_cdf, pcs, label=\"Neutral\", c=\"grey\")\n",
    "plt.ylabel(\"Percentile\")\n",
    "plt.xlabel(\"Wet surface area (px$^2$)\")\n",
    "plt.legend();"
   ]
  },
  {
   "cell_type": "markdown",
   "metadata": {},
   "source": [
    "The steeper the CDF at a given surface area, the more of the time the waterbody spends at that surface area. For El Niño and neutral, the CDF starts very steep and flattens, indicating that the lake is mostly dry. The curve is much shallower for La Niña, indicating that there is a wider range of surface areas occupied by the lake. We can therefore conclude that Kati Thanda is considerably wetter during La Niña than during El Niño or neutral. We can also see that Kati Thanda during El Niño is nearly the same as during the neutral phase of ENSO, as the CDFs are almost exactly the same."
   ]
  },
  {
   "cell_type": "markdown",
   "metadata": {},
   "source": [
    "CDFs are often hard to interpret, so it is also worth looking at the probability density function (PDF), which describes the probability density of observing the waterbody at a given wet surface area during each phase. We can make the (invalid, but useful) assumption that the PDF is well-described by a Gaussian kernel, and then perform a kernel density estimate."
   ]
  },
  {
   "cell_type": "code",
   "execution_count": 16,
   "metadata": {},
   "outputs": [],
   "source": [
    "xs = np.linspace(time_series.px_wet.min(), time_series.px_wet.max(), 100)\n",
    "en_pdf = scipy.stats.gaussian_kde(en_wet)\n",
    "ln_pdf = scipy.stats.gaussian_kde(ln_wet)\n",
    "neutral_pdf = scipy.stats.gaussian_kde(neutral_wet)\n",
    "\n",
    "en_pdf = en_pdf(xs) / en_pdf(xs).sum()\n",
    "ln_pdf = ln_pdf(xs) / ln_pdf(xs).sum()\n",
    "neutral_pdf = neutral_pdf(xs) / neutral_pdf(xs).sum()"
   ]
  },
  {
   "cell_type": "code",
   "execution_count": 17,
   "metadata": {},
   "outputs": [
    {
     "data": {
      "image/png": "[encoded data removed]",
      "text/plain": [
       "<Figure size 432x288 with 1 Axes>"
      ]
     },
     "metadata": {
      "needs_background": "light"
     },
     "output_type": "display_data"
    }
   ],
   "source": [
    "plt.plot(xs, en_pdf, label=\"El Niño\", c=\"firebrick\")\n",
    "plt.plot(xs, ln_pdf, label=\"La Niña\", c=\"steelblue\")\n",
    "plt.plot(xs, neutral_pdf, label=\"Neutral\", c=\"grey\")\n",
    "plt.ylabel(\"Probability density\")\n",
    "plt.xlabel(\"Wet surface area (px$^2$)\")\n",
    "plt.legend();"
   ]
  },
  {
   "cell_type": "markdown",
   "metadata": {},
   "source": [
    "PDFs can be clearer than CDFs. The higher the probability density at a given surface area, the more often the waterbody is at that surface area. Mathematically, the probability that the waterbody has a surface area between $x_1$ and $x_2$ is the total area under the PDF curve between these values:\n",
    "\n",
    "$$\n",
    "    p(x_1 \\leq \\mathrm{surface\\ area} \\leq x_2) = \\int_{x_1}^{x_2} \\mathrm{PDF}(x)\\ \\mathrm{d}x.\n",
    "$$\n",
    "\n",
    "The La Niña PDF is much higher than the El Niño or neutral PDFs for large surface areas, showing that Kati Thanda is wetter during La Niña. The PDF for La Niña is fairly flat, meaning that there is a roughly even chance of Kati Thanda being observed at any given surface area during La Niña."
   ]
  },
  {
   "cell_type": "markdown",
   "metadata": {},
   "source": [
    "## Total time full or empty for each phase\n",
    "\n",
    "A more limited, but easier to interpret, characterisation of a waterbody is how often it is full or empty. We can calculate this for each ENSO phase similarly to the CDF:"
   ]
  },
  {
   "cell_type": "code",
   "execution_count": 20,
   "metadata": {},
   "outputs": [],
   "source": [
    "percentage_xs = xs / time_series.px_wet.max()"
   ]
  },
  {
   "cell_type": "code",
   "execution_count": 23,
   "metadata": {},
   "outputs": [],
   "source": [
    "en_wet_pc = en_wet / en_wet.max()\n",
    "ln_wet_pc = ln_wet / ln_wet.max()\n",
    "neutral_wet_pc = neutral_wet / neutral_wet.max()"
   ]
  },
  {
   "cell_type": "code",
   "execution_count": 28,
   "metadata": {},
   "outputs": [],
   "source": [
    "en_full = (en_wet_pc >= 0.95).sum()\n",
    "en_empty = (en_wet_pc < 0.05).sum()\n",
    "ln_full = (ln_wet_pc >= 0.95).sum()\n",
    "ln_empty = (ln_wet_pc < 0.05).sum()\n",
    "neutral_full = (neutral_wet_pc >= 0.95).sum()\n",
    "neutral_empty = (neutral_wet_pc < 0.05).sum()"
   ]
  },
  {
   "cell_type": "code",
   "execution_count": 36,
   "metadata": {},
   "outputs": [
    {
     "data": {
      "text/plain": [
       "<matplotlib.legend.Legend at 0x7fc68ec73a58>"
      ]
     },
     "execution_count": 36,
     "metadata": {},
     "output_type": "execute_result"
    },
    {
     "data": {
      "image/png": "[encoded data removed]",
      "text/plain": [
       "<Figure size 432x288 with 1 Axes>"
      ]
     },
     "metadata": {
      "needs_background": "light"
     },
     "output_type": "display_data"
    }
   ],
   "source": [
    "plt.bar(np.arange(3), [en_full, ln_full, neutral_full], width=0.3, label='Full')\n",
    "plt.bar(np.arange(3) + 0.4, [en_empty, ln_empty, neutral_empty], width=0.3, label='Empty')\n",
    "plt.xticks(np.arange(3) + 0.2, ['El Niño', 'La Niña', 'Neutral'])\n",
    "plt.xlabel('ENSO phase')\n",
    "plt.ylabel('Number of days')\n",
    "plt.legend()"
   ]
  },
  {
   "cell_type": "markdown",
   "metadata": {},
   "source": [
    "## Difference between El Niño and La Niña compared to neutral\n",
    "\n",
    "We can characterise the influence of ENSO over our waterbody by a) assuming that there is no confounding correlation between ENSO and water surface area, and then b) calculating the distance between the above probability distributions. There are many, many ways of comparing probability distributions. We will employ three:\n",
    "\n",
    "1. The Kolmogorov-Smirnov (KS) distance, commonly used to determine whether two distributions are different in a test known as the \"KS test\". Arguably the most common statistical test, besides the Student t-test. While it is parameter-free and works on any distribution, it's also fairly weak and hence tends to under-predict differences in distributions, i.e. if it suggests that two distributions are different they probably are, but if it suggests that they are the same it might not be.\n",
    "2. The sum-of-squares difference, or the Euclidean distance. This is a measure of how far apart the quantiles are, and is a good choice if you expect your quantiles to have normally-distributed noise.\n",
    "3. The Kullback-Leibler (KL) divergence. This is an asymmetric measure of \"surprise\": given an expected distribution, how surprising is it to observe another distribution? This is a measure of relative information entropy. We will measure the KL divergence from neutral to El Niño/La Niña, which can be interpreted as the amount of information lost by approximating El Niño and La Niña as neutral. No information would be lost if they are the same distribution."
   ]
  },
  {
   "cell_type": "code",
   "execution_count": 37,
   "metadata": {},
   "outputs": [],
   "source": [
    "# Kolmogorov-Smirnov.\n",
    "en_ks = abs(en_cdf - neutral_cdf).max()\n",
    "ln_ks = abs(ln_cdf - neutral_cdf).max()\n",
    "\n",
    "# Euclidean.\n",
    "en_euc = np.sqrt(np.mean((en_cdf - neutral_cdf) ** 2))\n",
    "ln_euc = np.sqrt(np.mean((ln_cdf - neutral_cdf) ** 2))\n",
    "\n",
    "# Kullback-Leibler.\n",
    "en_kl = np.sum(en_pdf * np.log(en_pdf / neutral_pdf))\n",
    "ln_kl = np.sum(ln_pdf * np.log(ln_pdf / neutral_pdf))\n",
    "\n",
    "# Full and empty difference\n",
    "en_fe = np.hypot(en_full - neutral_full, en_empty - neutral_empty)\n",
    "ln_fe = np.hypot(ln_full - neutral_full, ln_empty - neutral_empty)"
   ]
  },
  {
   "cell_type": "code",
   "execution_count": 38,
   "metadata": {},
   "outputs": [
    {
     "data": {
      "image/png": "[encoded data removed]",
      "text/plain": [
       "<Figure size 1080x360 with 3 Axes>"
      ]
     },
     "metadata": {
      "needs_background": "light"
     },
     "output_type": "display_data"
    }
   ],
   "source": [
    "fig, axs = plt.subplots(1, 3, figsize=(15, 5))\n",
    "\n",
    "axs[0].bar([0, 1], [en_ks, ln_ks], color=[\"firebrick\", \"steelblue\"])\n",
    "axs[0].set_title(\"Kolmogorov-Smirnov\")\n",
    "axs[0].set_ylabel(\"Distance (px$^2$)\")\n",
    "axs[1].bar([0, 1], [en_euc, ln_euc], color=[\"firebrick\", \"steelblue\"])\n",
    "axs[1].set_title(\"Euclidean\")\n",
    "axs[1].set_ylabel(\"Distance (px$^2$)\")\n",
    "axs[2].bar([0, 1], [en_kl, ln_kl], color=[\"firebrick\", \"steelblue\"])\n",
    "axs[2].set_title(\"Kullback-Leibler\")\n",
    "axs[2].set_ylabel(\"Distance (nats)\")\n",
    "\n",
    "for ax in axs:\n",
    "    ax.set_xticks([0, 1])\n",
    "    ax.set_xticklabels([\"El Niño\", \"La Niña\"])\n",
    "\n",
    "plt.tight_layout()"
   ]
  },
  {
   "cell_type": "markdown",
   "metadata": {},
   "source": [
    "All three metrics show that Kati Thanda is heavily affected by La Niña, but not very affected by El Niño."
   ]
  },
  {
   "cell_type": "markdown",
   "metadata": {},
   "source": [
    "***\n",
    "\n",
    "## Additional information\n",
    "\n",
    "**License:** The code in this notebook is licensed under the [Apache License, Version 2.0](https://www.apache.org/licenses/LICENSE-2.0). \n",
    "Digital Earth Australia data is licensed under the [Creative Commons by Attribution 4.0](https://creativecommons.org/licenses/by/4.0/) license.\n",
    "\n",
    "**Contact:** If you need assistance, please post a question on the [Open Data Cube Slack channel](http://slack.opendatacube.org/) or on the [GIS Stack Exchange](https://gis.stackexchange.com/questions/ask?tags=open-data-cube) using the `open-data-cube` tag (you can view previously asked questions [here](https://gis.stackexchange.com/questions/tagged/open-data-cube)).\n",
    "If you would like to report an issue with this notebook, you can file one on [Github](https://github.com/GeoscienceAustralia/dea-notebooks).\n",
    "\n",
    "**Last modified:** September 2020"
   ]
  },
  {
   "cell_type": "markdown",
   "metadata": {},
   "source": [
    "## Tags\n",
    "Browse all available tags on the DEA User Guide's [Tags Index](https://docs.dea.ga.gov.au/genindex.html)."
   ]
  },
  {
   "cell_type": "raw",
   "metadata": {
    "raw_mimetype": "text/restructuredtext"
   },
   "source": [
    "**Tags**: :index:`NCI compatible`, :index:`sandbox compatible`, :index:`DEA Waterbodies`, :index:`time series`, :index:`water`"
   ]
  },
  {
   "cell_type": "code",
   "execution_count": null,
   "metadata": {},
   "outputs": [],
   "source": []
  }
 ],
 "metadata": {
  "kernelspec": {
   "display_name": "Python 3",
   "language": "python",
   "name": "python3"
  },
  "language_info": {
   "codemirror_mode": {
    "name": "ipython",
    "version": 3
   },
   "file_extension": ".py",
   "mimetype": "text/x-python",
   "name": "python",
   "nbconvert_exporter": "python",
   "pygments_lexer": "ipython3",
   "version": "3.6.9"
  },
  "widgets": {
   "application/vnd.jupyter.widget-state+json": {
    "state": {},
    "version_major": 2,
    "version_minor": 0
   }
  }
 },
 "nbformat": 4,
 "nbformat_minor": 4
}
